{
 "cells": [
  {
   "cell_type": "markdown",
   "metadata": {},
   "source": [
    "# Neural Prosthesis - Homework 1 \n",
    "*Author : Johan Medrano - ID 0645241*\n",
    "\n",
    "## 1. Influence of an input noise on the firing rate of a neuron \n",
    "\n",
    "For the following part, we will work with the [Python module interfacing NEURON](https://neuron.yale.edu/neuron/static/docs/neuronpython/)."
   ]
  },
  {
   "cell_type": "code",
   "execution_count": 1,
   "metadata": {
    "collapsed": true
   },
   "outputs": [],
   "source": [
    "from neuron import h, gui\n",
    "\n",
    "import numpy as np\n",
    "from matplotlib import pyplot as plt\n",
    "import scipy.fftpack as scfft"
   ]
  },
  {
   "cell_type": "markdown",
   "metadata": {},
   "source": [
    "We firstly create a soma, containing a Hodgkin-Huxley model. This model implements sodium, potassium and leakage channels.  "
   ]
  },
  {
   "cell_type": "code",
   "execution_count": 2,
   "metadata": {
    "collapsed": true
   },
   "outputs": [],
   "source": [
    "soma = h.Section(name='soma')\n",
    "soma.insert('hh')\n",
    "segment = soma(0.5)"
   ]
  },
  {
   "cell_type": "markdown",
   "metadata": {},
   "source": [
    "Then, we configure the model, using the values given by Hodgkin and Huxley in they [original paper](https://www.ncbi.nlm.nih.gov/pmc/articles/PMC1392413/pdf/jphysiol01442-0106.pdf) \"A quantitative description of membrane current and its application to conduction and excitation in nerve\" (1952).We let the values of axial resistance and diameter of the soma as default. "
   ]
  },
  {
   "cell_type": "markdown",
   "metadata": {},
   "source": [
    "- $\\bar{g_{Na}} =120\\ mS/cm^2$\n",
    "- $\\bar{g_K} = 36\\ mS/cm^2$\n",
    "- $\\bar{g_L} = 0.3\\ mS/cm^2$\n",
    "- $E_{Na} = -115\\ mV$\n",
    "- $E_K = 12\\ mV$\n",
    "- $E_L = -10.613\\ mV$ \n",
    "$$$$\n"
   ]
  },
  {
   "cell_type": "code",
   "execution_count": 3,
   "metadata": {},
   "outputs": [
    {
     "name": "stdout",
     "output_type": "stream",
     "text": [
      "soma { nseg=1  L=18.8  Ra=123\n",
      "\t/*location 0 attached to cell 0*/\n",
      "\t/* First segment only */\n",
      "\tinsert morphology { diam=18.8}\n",
      "\tinsert capacitance { cm=1}\n",
      "\tinsert hh { gnabar_hh=0.12 gkbar_hh=0.036 gl_hh=0.0003 el_hh=-54.3}\n",
      "\tinsert na_ion { ena=50}\n",
      "\tinsert k_ion { ek=-77}\n",
      "}\n"
     ]
    },
    {
     "data": {
      "text/plain": [
       "1.0"
      ]
     },
     "execution_count": 3,
     "metadata": {},
     "output_type": "execute_result"
    }
   ],
   "source": [
    "hh_model = segment.hh\n",
    "\n",
    "soma.L = 18.8\n",
    "segment.diam = 18.8\n",
    "soma.Ra = 123.0\n",
    "\n",
    "h.psection()"
   ]
  },
  {
   "cell_type": "markdown",
   "metadata": {},
   "source": [
    "Now our model is ready to be stimulated. We create a function doing the following : \n",
    "* creation a current stimulation, which is a clamp starting after a short delay (to let the model rush a equilibrium point), with a user-defined duration and amplitude, \n",
    "* creation of vector to record the inner potential of the soma during time,\n",
    "* one run of the simulation, stopping when the clamp is over. \n",
    "\n",
    "We then create another function, doing the same thing but for with a noisy signal. "
   ]
  },
  {
   "cell_type": "code",
   "execution_count": 4,
   "metadata": {
    "collapsed": true
   },
   "outputs": [],
   "source": [
    "def current_stim_run_once(stim_amplitude, stim_delay=25, stim_duration=500):\n",
    "    global stim\n",
    "    \n",
    "    v_vec = h.Vector() \n",
    "    t_vec = h.Vector() \n",
    "    \n",
    "    stim.delay = stim_delay\n",
    "    stim.dur = stim_duration\n",
    "    stim.amp = stim_amplitude\n",
    "\n",
    "    v_vec.record(soma(0.5)._ref_v)\n",
    "    t_vec.record(h._ref_t)\n",
    "\n",
    "    h.tstop = stim.delay+stim.dur\n",
    "    h.run()\n",
    "    \n",
    "    vv = h.Vector(len(v_vec))\n",
    "    vv.copy(v_vec)\n",
    "    v_vec = h.Vector()\n",
    "    \n",
    "    return vv, t_vec\n",
    "\n",
    "def noisy_current_stim_run_once(clamp_amp, t_vec_noise, noise_var, clamp_delay):\n",
    "    i_clean = np.array([0 if t_vec_noise[i] < clamp_delay else clamp_amp for i in range(len(t_vec_noise))])\n",
    "\n",
    "    # 2000Hz noise max\n",
    "    noise = np.random.normal(0., noise_var, 500) \n",
    "    \n",
    "    \n",
    "    noise = scfft.ifft(scfft.rfft(noise), len(t_vec_noise)) \n",
    "    noise *= noise_var / np.max(np.abs(noise)) \n",
    "    \n",
    "    i_noisy = h.Vector(i_clean + noise)\n",
    "\n",
    "    stim.delay=  0\n",
    "    stim.dur = 1e9\n",
    "    stim.amp = 0 \n",
    "    i_noisy.play(stim._ref_amp, t_vec_noise)\n",
    "\n",
    "    v_vec_noise = h.Vector() \n",
    "    \n",
    "    v_vec_noise.record(soma(0.5)._ref_v)\n",
    "    \n",
    "    \n",
    "    h.tstop = t_vec_noise[-1]\n",
    "    h.run() \n",
    "    \n",
    "    \n",
    "    vv = h.Vector(len(v_vec_noise))\n",
    "    vv.copy(v_vec_noise)\n",
    "    v_vec_noise = h.Vector()\n",
    "    \n",
    "    return vv, i_noisy"
   ]
  },
  {
   "cell_type": "code",
   "execution_count": 5,
   "metadata": {
    "collapsed": true
   },
   "outputs": [],
   "source": [
    "def make_clamps(clamp_amp, clamp_delay, clamp_duration, time_res, noise_var=[]): \n",
    "    t_vec = np.linspace(0., clamp_delay+clamp_duration, time_res)\n",
    "    \n",
    "    clean_clamp = np.array([0 if t_vec[i] < clamp_delay else clamp_amp for i in range(time_res)])\n",
    "    clamps = [clean_clamp]\n",
    "        \n",
    "    for nv in noise_var:\n",
    "        # 2000Hz noise max\n",
    "        noise = np.random.normal(0., 1, 500) \n",
    "        noise = scfft.ifft(scfft.rfft(noise), time_res) \n",
    "        noise *= nv / np.max(np.abs(noise)) \n",
    "        clamps.append(noise + clean_clamp)\n",
    "    \n",
    "    return h.Vector(t_vec), [h.Vector(cl) for cl in clamps]"
   ]
  },
  {
   "cell_type": "code",
   "execution_count": 6,
   "metadata": {
    "collapsed": true
   },
   "outputs": [],
   "source": [
    "def sim_clamp(clamp, t_vec): \n",
    "    global soma \n",
    "    \n",
    "    if not isinstance(clamp, list): \n",
    "        _clamp = [clamp]\n",
    "    else: \n",
    "        _clamp = clamp\n",
    "    \n",
    "    v_vec = []\n",
    "    \n",
    "    for c in _clamp: \n",
    "        vv = h.Vector()\n",
    "        vv.record(soma(0.5)._ref_v)\n",
    "        \n",
    "        stim = h.IClamp(soma(0.5))\n",
    "        stim.delay = 0\n",
    "        stim.dur = 1e9\n",
    "        \n",
    "        c.play(stim._ref_amp, t_vec)\n",
    "        \n",
    "        h.run()\n",
    "        \n",
    "        v_vec.append(h.Vector())\n",
    "        v_vec[-1].copy(vv)\n",
    "        \n",
    "    if not isinstance(clamp, list): \n",
    "        v_vec = v_vec[0]\n",
    "    return v_vec"
   ]
  },
  {
   "cell_type": "markdown",
   "metadata": {},
   "source": [
    "We then create a function detecting spikes on a time serie of voltages, counting a spike each time the first-order derivative of the voltage, $\\frac{dV_{ref}}{dt}$, reaches a defined threshold. "
   ]
  },
  {
   "cell_type": "code",
   "execution_count": 7,
   "metadata": {
    "collapsed": true
   },
   "outputs": [],
   "source": [
    "def get_spikes_count(v_vec, t_vec, thresh=10): \n",
    "    #dt_vec = [(t_vec[i] + t_vec[i+1])/2 for i in range(len(t_vec) - 1)]\n",
    "    dv_vec = [(v_vec[i+1]-v_vec[i])/(t_vec[i+1]-t_vec[i]) for i in range(len(t_vec) - 1)]\n",
    "    #plt.plot(dt_vec, dv_vec)\n",
    "    #plt.show()\n",
    "    spikes_count = np.sum([dv_vec[i]>thresh and dv_vec[i+1]<thresh for i in range(len(dv_vec) - 1)])\n",
    "    \n",
    "    return spikes_count"
   ]
  },
  {
   "cell_type": "code",
   "execution_count": null,
   "metadata": {},
   "outputs": [
    {
     "name": "stderr",
     "output_type": "stream",
     "text": [
      "/usr/lib/python3.6/site-packages/ipykernel_launcher.py:14: ComplexWarning: Casting complex values to real discards the imaginary part\n",
      "  \n",
      "/usr/lib/python3.6/site-packages/ipykernel_launcher.py:33: ComplexWarning: Casting complex values to real discards the imaginary part\n"
     ]
    }
   ],
   "source": [
    "min_current = 0\n",
    "max_current =0.4\n",
    "resolution = 50\n",
    "\n",
    "stim_delay = 15\n",
    "stim_duration = 100\n",
    "\n",
    "time_res = 12001\n",
    "\n",
    "input_current = []\n",
    "spikes_count = {'clean':[], 'noisy':{'.05nA':[], '.1nA':[]}}\n",
    "spikes_to_hertz = lambda x : (x / (stim_duration * 1e-3))\n",
    "once = False\n",
    "for curr in np.linspace(min_current, max_current, resolution): \n",
    "    t_vec, clamps = make_clamps(curr, stim_delay, stim_duration, time_res, [0.05,0.1])\n",
    "    input_current.append(curr)\n",
    "    #stim = h.IClamp(soma(0))\n",
    "   # v_vec = sim_clamp(clamps, t_vec)\n",
    "    \n",
    "  #  t=  h.Vector() \n",
    "   # t.record(h._ref_t)\n",
    "    if not once:\n",
    "        v_vec_clean, t_vec_clean = current_stim_run_once(curr, stim_delay, stim_duration)\n",
    "        #once = True\n",
    "        t_vec = t_vec_clean\n",
    "    #t_vec_noise = np.linspace(t_vec_clean[0], t_vec_clean[-1], noise_res)\n",
    "    v_vec_noisy_1, clamp_1 = noisy_current_stim_run_once(curr, t_vec_clean, .05, stim_delay)\n",
    "    v_vec_noisy_2, clamp_2 = noisy_current_stim_run_once(curr, t_vec_clean, .1, stim_delay)\n",
    "        \n",
    "    spikes_count['clean'].append(spikes_to_hertz(get_spikes_count(v_vec_clean, t_vec)))\n",
    "    spikes_count['noisy']['.05nA'].append(spikes_to_hertz(get_spikes_count(v_vec_noisy_1, t_vec)))\n",
    "    spikes_count['noisy']['.1nA'].append(spikes_to_hertz(get_spikes_count(v_vec_noisy_2, t_vec)))\n",
    "print(\"-Done-\")"
   ]
  },
  {
   "cell_type": "code",
   "execution_count": 10,
   "metadata": {},
   "outputs": [
    {
     "data": {
      "image/png": "[encoded data removed]",
      "text/plain": [
       "<matplotlib.figure.Figure at 0x7ffb350347b8>"
      ]
     },
     "metadata": {},
     "output_type": "display_data"
    }
   ],
   "source": [
    "plt.subplot(3,2,1)\n",
    "plt.plot(input_current, spikes_count['clean'])\n",
    "plt.subplot(3,2,2)\n",
    "#plt.plot(t_vec, clamps[0])\n",
    "#plt.plot(np.linspace(0, t_vec[-1], len(v_vec[0])), v_vec[0])\n",
    "plt.subplot(3,2,3) \n",
    "plt.plot(input_current, spikes_count['noisy']['.05nA'])\n",
    "plt.subplot(3,2,4)\n",
    "plt.plot(t_vec, clamp_1)\n",
    "plt.subplot(3,2,5)\n",
    "plt.plot(input_current, spikes_count['noisy']['.1nA'])\n",
    "plt.subplot(3,2,6)\n",
    "plt.plot(t_vec, v_vec_noisy_2)\n",
    "\n",
    "plt.show()"
   ]
  },
  {
   "cell_type": "code",
   "execution_count": null,
   "metadata": {},
   "outputs": [],
   "source": [
    "from scipy import interpolate as i \n",
    "N = 10000\n",
    "L = 2000\n",
    "\n",
    "noise0 = np.random.normal(0., 0.5, L) \n",
    "noise = scfft.ifft(scfft.rfft(noise0), N)\n",
    "T = 1\n",
    "df = 1 / T\n",
    "\n",
    "\n",
    "f = scfft.fft(noise)\n",
    "fre = scfft.fftfreq(N)\n",
    "fre2 = scfft.fftfreq(L)\n",
    "\n",
    "fre = [df * n for n in range(N)]\n",
    "fre2 = [df * l for l in range(L)]\n",
    "\n",
    "plt.plot(fre, f) \n",
    "plt.plot(fre2, scfft.rfft(noise0))\n",
    "plt.show()\n",
    "noise = scfft.ifft(scfft.fftfreq(N), len(t_vec_noise)) \n",
    "noise *= noise_var / np.max(np.abs(noise)) \n",
    "  \n"
   ]
  },
  {
   "cell_type": "code",
   "execution_count": null,
   "metadata": {},
   "outputs": [],
   "source": [
    "print(300 / h.dt )"
   ]
  }
 ],
 "metadata": {
  "kernelspec": {
   "display_name": "Python 3",
   "language": "python",
   "name": "python3"
  },
  "language_info": {
   "codemirror_mode": {
    "name": "ipython",
    "version": 3
   },
   "file_extension": ".py",
   "mimetype": "text/x-python",
   "name": "python",
   "nbconvert_exporter": "python",
   "pygments_lexer": "ipython3",
   "version": "3.6.5"
  }
 },
 "nbformat": 4,
 "nbformat_minor": 2
}
