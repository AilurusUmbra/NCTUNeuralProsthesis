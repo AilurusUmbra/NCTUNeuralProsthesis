{
 "cells": [
  {
   "cell_type": "code",
   "execution_count": 1,
   "metadata": {
    "collapsed": true
   },
   "outputs": [],
   "source": [
    "from neuron import h, gui\n",
    "import numpy as np"
   ]
  },
  {
   "cell_type": "code",
   "execution_count": 93,
   "metadata": {},
   "outputs": [],
   "source": [
    "def make_myelinated_axon(diameter, nseg=3, innode_len=500, ranvier_len=1, n_nodes=4, n_innode=3):\n",
    "    tag = np.random.randint(0,9)\n",
    "    axon = []\n",
    "    \n",
    "    for i in range(n_innode + n_nodes): \n",
    "        if i % 2 == 0: \n",
    "            r = h.Section(name='ranvier%d%d'%(tag,i))\n",
    "            r(0.5).diam = diameter\n",
    "            r.nseg = nseg\n",
    "            #r.Ra = 123.\n",
    "            r.L = ranvier_len\n",
    "            r.insert('hh')\n",
    "            if i > 0: \n",
    "                r.connect(axon[-1](1))\n",
    "            axon.append(r)\n",
    "            \n",
    "        if i % 2 == 1: \n",
    "            m = h.Section(name='myelin%d%d'%(tag,i))\n",
    "            m(0.5).diam = diameter\n",
    "            m.nseg = nseg\n",
    "            #m.Ra = 123.\n",
    "            m.L = innode_len\n",
    "            m.insert('pas')\n",
    "            m.g_pas = 0.\n",
    "            m.connect(axon[-1](1))\n",
    "            axon.append(m)  \n",
    "\n",
    "    return axon    "
   ]
  },
  {
   "cell_type": "code",
   "execution_count": 94,
   "metadata": {},
   "outputs": [
    {
     "name": "stdout",
     "output_type": "stream",
     "text": [
      "[ranvier60, myelin61, ranvier62, myelin63, ranvier64, myelin65, ranvier66]\n",
      "ranvier60 { nseg=3  L=1  Ra=35.4\n",
      "\t/*location 0 attached to cell 2*/\n",
      "\t/* First segment only */\n",
      "\tinsert capacitance { cm=1}\n",
      "\tinsert morphology { diam=1}\n",
      "\tinsert hh { gnabar_hh=0.12 gkbar_hh=0.036 gl_hh=0.0003 el_hh=-54.3}\n",
      "\tinsert na_ion { ena=50}\n",
      "\tinsert k_ion { ek=-77}\n",
      "}\n",
      "myelin61 { nseg=3  L=500  Ra=35.4\n",
      "\tranvier60 connect myelin61 (0), 1\n",
      "\t/* First segment only */\n",
      "\tinsert capacitance { cm=1}\n",
      "\tinsert morphology { diam=1}\n",
      "\tinsert pas { g_pas=0 e_pas=-70}\n",
      "}\n",
      "ranvier62 { nseg=3  L=1  Ra=35.4\n",
      "\tmyelin61 connect ranvier62 (0), 1\n",
      "\t/* First segment only */\n",
      "\tinsert capacitance { cm=1}\n",
      "\tinsert morphology { diam=1}\n",
      "\tinsert hh { gnabar_hh=0.12 gkbar_hh=0.036 gl_hh=0.0003 el_hh=-54.3}\n",
      "\tinsert na_ion { ena=50}\n",
      "\tinsert k_ion { ek=-77}\n",
      "}\n",
      "myelin63 { nseg=3  L=500  Ra=35.4\n",
      "\tranvier62 connect myelin63 (0), 1\n",
      "\t/* First segment only */\n",
      "\tinsert capacitance { cm=1}\n",
      "\tinsert morphology { diam=1}\n",
      "\tinsert pas { g_pas=0 e_pas=-70}\n",
      "}\n",
      "ranvier64 { nseg=3  L=1  Ra=35.4\n",
      "\tmyelin63 connect ranvier64 (0), 1\n",
      "\t/* First segment only */\n",
      "\tinsert capacitance { cm=1}\n",
      "\tinsert morphology { diam=1}\n",
      "\tinsert hh { gnabar_hh=0.12 gkbar_hh=0.036 gl_hh=0.0003 el_hh=-54.3}\n",
      "\tinsert na_ion { ena=50}\n",
      "\tinsert k_ion { ek=-77}\n",
      "}\n",
      "myelin65 { nseg=3  L=500  Ra=35.4\n",
      "\tranvier64 connect myelin65 (0), 1\n",
      "\t/* First segment only */\n",
      "\tinsert capacitance { cm=1}\n",
      "\tinsert morphology { diam=1}\n",
      "\tinsert pas { g_pas=0 e_pas=-70}\n",
      "}\n",
      "ranvier66 { nseg=3  L=1  Ra=35.4\n",
      "\tmyelin65 connect ranvier66 (0), 1\n",
      "\t/* First segment only */\n",
      "\tinsert capacitance { cm=1}\n",
      "\tinsert morphology { diam=1}\n",
      "\tinsert hh { gnabar_hh=0.12 gkbar_hh=0.036 gl_hh=0.0003 el_hh=-54.3}\n",
      "\tinsert na_ion { ena=50}\n",
      "\tinsert k_ion { ek=-77}\n",
      "}\n"
     ]
    }
   ],
   "source": [
    "a1 = make_myelinated_axon(1)\n",
    "print(a1)\n",
    "for i in a1:\n",
    "    h.psection(sec=i)\n",
    "    \n"
   ]
  },
  {
   "cell_type": "code",
   "execution_count": 96,
   "metadata": {},
   "outputs": [
    {
     "data": {
      "text/plain": [
       "0.0"
      ]
     },
     "execution_count": 96,
     "metadata": {},
     "output_type": "execute_result"
    }
   ],
   "source": [
    "v_vec = [h.Vector() for i in range(7*3)]\n",
    "t = h.Vector() \n",
    "\n",
    "loc = [0,0.5,1]\n",
    "for i in range(len(v_vec)): \n",
    "    v_vec[i].record(a1[i//3](loc[i%3])._ref_v)\n",
    "t.record(h._ref_t)\n",
    "\n",
    "stim = h.IClamp(a1[0](0))\n",
    "stim.delay = 50\n",
    "stim.dur = 1\n",
    "stim.amp = 0.5\n",
    "\n",
    "h.tstop = 1500\n",
    "h.run() "
   ]
  },
  {
   "cell_type": "code",
   "execution_count": 97,
   "metadata": {},
   "outputs": [
    {
     "data": {
      "image/png": "[encoded data removed]",
      "text/plain": [
       "<matplotlib.figure.Figure at 0x7f7950d9bba8>"
      ]
     },
     "metadata": {},
     "output_type": "display_data"
    }
   ],
   "source": [
    "import matplotlib.pyplot as plt\n",
    "for i in range(7*3): \n",
    "    plt.subplot(7*3,1,i+1)\n",
    "    plt.plot(t, v_vec[i])\n",
    "plt.show()\n"
   ]
  }
 ],
 "metadata": {
  "kernelspec": {
   "display_name": "Python 3",
   "language": "python",
   "name": "python3"
  },
  "language_info": {
   "codemirror_mode": {
    "name": "ipython",
    "version": 3
   },
   "file_extension": ".py",
   "mimetype": "text/x-python",
   "name": "python",
   "nbconvert_exporter": "python",
   "pygments_lexer": "ipython3",
   "version": "3.6.5"
  }
 },
 "nbformat": 4,
 "nbformat_minor": 2
}
